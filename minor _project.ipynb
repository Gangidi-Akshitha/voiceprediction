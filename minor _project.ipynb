{
 "cells": [
  {
   "cell_type": "markdown",
   "id": "58f8976b",
   "metadata": {},
   "source": [
    "#                             MINOR PROJECT"
   ]
  },
  {
   "cell_type": "markdown",
   "id": "24278b32",
   "metadata": {},
   "source": [
    "Project Name:<br>\n",
    "Data Science September Minor Project"
   ]
  },
  {
   "cell_type": "markdown",
   "id": "603c325c",
   "metadata": {},
   "source": [
    "Project Description:"
   ]
  },
  {
   "cell_type": "markdown",
   "id": "8b05bc12",
   "metadata": {},
   "source": [
    "Problem statement: Create a classification model to predict the gender (male or \n",
    "female) based on different acoustic parameters"
   ]
  },
  {
   "cell_type": "markdown",
   "id": "e7dcf740",
   "metadata": {},
   "source": [
    "Context: This database was created to identify a voice as male or female, based upon \n",
    "acoustic properties of the voice and speech. The dataset consists of 3,168 recorded \n",
    "voice samples, collected from male and female speakers. The voice samples are pre\u0002processed by acoustic analysis in R using the seewave and tuneR packages, with an \n",
    "analyzed frequency range of 0hz-280hz (human vocal range).\n"
   ]
  },
  {
   "cell_type": "markdown",
   "id": "a8d847e8",
   "metadata": {},
   "source": [
    "Column Description:"
   ]
  },
  {
   "cell_type": "markdown",
   "id": "4043f698",
   "metadata": {},
   "source": [
    "• meanfreq: mean frequency (in kHz)<br>\n",
    "• sd: standard deviation of frequency<br>\n",
    "• median: median frequency (in kHz)<br>\n",
    "• Q25: first quantile (in kHz)<br>\n",
    "• Q75: third quantile (in kHz)<br>\n",
    "• IQR: interquantile range (in kHz)<br>\n",
    "• skew: skewness (see note in specprop description)<br>\n",
    "• kurt: kurtosis (see note in specprop description)<br>\n",
    "• sp.ent: spectral entropy<br>\n",
    "• sfm: spectral flatness<br>\n",
    "• mode: mode frequency<br>\n",
    "• centroid: frequency centroid (see specprop)<br>\n",
    "• peakf: peak frequency (frequency with highest energy)<br>\n",
    "• meanfun: average of fundamental frequency measured across acoustic signal<br>\n",
    "• minfun: minimum fundamental frequency measured across acoustic signal<br>\n",
    "• maxfun: maximum fundamental frequency measured across acoustic signal<br>\n",
    "• meandom: average of dominant frequency measured across acoustic signal<br>\n",
    "• mindom: minimum of dominant frequency measured across acoustic signal<br>\n",
    "• maxdom: maximum of dominant frequency measured across acoustic signal<br>\n",
    "• dfrange: range of dominant frequency measured across acoustic signal<br>\n",
    "• modindx: modulation index. Calculated as the accumulated absolute difference<br>\n",
    "between adjacent measurements of fundamental frequencies divided by the<br>\n",
    "frequency range<br>\n",
    "• label: male or female frequency (frequency with highest energy)<br>\n"
   ]
  },
  {
   "cell_type": "markdown",
   "id": "5907f69c",
   "metadata": {},
   "source": [
    "Dataset:"
   ]
  },
  {
   "cell_type": "markdown",
   "id": "201cdd99",
   "metadata": {},
   "source": [
    "https://drive.google.com/file/d/1I32cTkoT2U--InDtRjZP3BaPpUtdZ1R6/view?usp=sharing"
   ]
  },
  {
   "cell_type": "markdown",
   "id": "046b5bf9",
   "metadata": {},
   "source": [
    "Steps to consider:"
   ]
  },
  {
   "cell_type": "markdown",
   "id": "633de317",
   "metadata": {},
   "source": [
    "1)Remove/handle null values (if any)<br>\n",
    "2)Depict percentage distribution of label on a pie chart<br>\n",
    "3)Considering all the features as independent feature and label as dependent feature,<br>\n",
    "split the dataset training and testing data with test size=20%<br>\n",
    "4)Apply the following classifier models on training dataset and generate predictions for<br>\n",
    "the test dataset<br>\n",
    "a. Decision Tree Classifier<br>\n",
    "b. Random Forest Classifier<br>\n",
    "c. KNN Classifier<br>\n",
    "d. Logistic Regression<br>\n",
    "e. SVM Classifier<br>\n",
    "5)Also generate confusion_matrix and classification report for each model generated in<br>\n",
    "Q4.<br>\n",
    "6)Report the model with the best accuracy<br>"
   ]
  },
  {
   "cell_type": "markdown",
   "id": "554d2529",
   "metadata": {},
   "source": [
    "# Code "
   ]
  },
  {
   "cell_type": "code",
   "execution_count": 24,
   "id": "5d946441",
   "metadata": {},
   "outputs": [],
   "source": [
    "##: Create a classification model to predict the gender (male or female) based on different acoustic parameters"
   ]
  },
  {
   "cell_type": "code",
   "execution_count": 25,
   "id": "3d1c06df",
   "metadata": {},
   "outputs": [],
   "source": [
    "import pandas as pd #data processing\n",
    "import numpy as np #mathematical computations\n",
    "import matplotlib.pyplot as plt #visualization"
   ]
  },
  {
   "cell_type": "code",
   "execution_count": 26,
   "id": "c4bd92ad",
   "metadata": {},
   "outputs": [
    {
     "data": {
      "text/html": [
       "<div>\n",
       "<style scoped>\n",
       "    .dataframe tbody tr th:only-of-type {\n",
       "        vertical-align: middle;\n",
       "    }\n",
       "\n",
       "    .dataframe tbody tr th {\n",
       "        vertical-align: top;\n",
       "    }\n",
       "\n",
       "    .dataframe thead th {\n",
       "        text-align: right;\n",
       "    }\n",
       "</style>\n",
       "<table border=\"1\" class=\"dataframe\">\n",
       "  <thead>\n",
       "    <tr style=\"text-align: right;\">\n",
       "      <th></th>\n",
       "      <th>meanfreq</th>\n",
       "      <th>sd</th>\n",
       "      <th>median</th>\n",
       "      <th>Q25</th>\n",
       "      <th>Q75</th>\n",
       "      <th>IQR</th>\n",
       "      <th>skew</th>\n",
       "      <th>kurt</th>\n",
       "      <th>sp.ent</th>\n",
       "      <th>sfm</th>\n",
       "      <th>...</th>\n",
       "      <th>centroid</th>\n",
       "      <th>meanfun</th>\n",
       "      <th>minfun</th>\n",
       "      <th>maxfun</th>\n",
       "      <th>meandom</th>\n",
       "      <th>mindom</th>\n",
       "      <th>maxdom</th>\n",
       "      <th>dfrange</th>\n",
       "      <th>modindx</th>\n",
       "      <th>label</th>\n",
       "    </tr>\n",
       "  </thead>\n",
       "  <tbody>\n",
       "    <tr>\n",
       "      <th>0</th>\n",
       "      <td>0.059781</td>\n",
       "      <td>0.064241</td>\n",
       "      <td>0.032027</td>\n",
       "      <td>0.015071</td>\n",
       "      <td>0.090193</td>\n",
       "      <td>0.075122</td>\n",
       "      <td>12.863462</td>\n",
       "      <td>274.402906</td>\n",
       "      <td>0.893369</td>\n",
       "      <td>0.491918</td>\n",
       "      <td>...</td>\n",
       "      <td>0.059781</td>\n",
       "      <td>0.084279</td>\n",
       "      <td>0.015702</td>\n",
       "      <td>0.275862</td>\n",
       "      <td>0.007812</td>\n",
       "      <td>0.007812</td>\n",
       "      <td>0.007812</td>\n",
       "      <td>0.000000</td>\n",
       "      <td>0.000000</td>\n",
       "      <td>male</td>\n",
       "    </tr>\n",
       "    <tr>\n",
       "      <th>1</th>\n",
       "      <td>0.066009</td>\n",
       "      <td>0.067310</td>\n",
       "      <td>0.040229</td>\n",
       "      <td>0.019414</td>\n",
       "      <td>0.092666</td>\n",
       "      <td>0.073252</td>\n",
       "      <td>22.423285</td>\n",
       "      <td>634.613855</td>\n",
       "      <td>0.892193</td>\n",
       "      <td>0.513724</td>\n",
       "      <td>...</td>\n",
       "      <td>0.066009</td>\n",
       "      <td>0.107937</td>\n",
       "      <td>0.015826</td>\n",
       "      <td>0.250000</td>\n",
       "      <td>0.009014</td>\n",
       "      <td>0.007812</td>\n",
       "      <td>0.054688</td>\n",
       "      <td>0.046875</td>\n",
       "      <td>0.052632</td>\n",
       "      <td>male</td>\n",
       "    </tr>\n",
       "    <tr>\n",
       "      <th>2</th>\n",
       "      <td>0.077316</td>\n",
       "      <td>0.083829</td>\n",
       "      <td>0.036718</td>\n",
       "      <td>0.008701</td>\n",
       "      <td>0.131908</td>\n",
       "      <td>0.123207</td>\n",
       "      <td>30.757155</td>\n",
       "      <td>1024.927705</td>\n",
       "      <td>0.846389</td>\n",
       "      <td>0.478905</td>\n",
       "      <td>...</td>\n",
       "      <td>0.077316</td>\n",
       "      <td>0.098706</td>\n",
       "      <td>0.015656</td>\n",
       "      <td>0.271186</td>\n",
       "      <td>0.007990</td>\n",
       "      <td>0.007812</td>\n",
       "      <td>0.015625</td>\n",
       "      <td>0.007812</td>\n",
       "      <td>0.046512</td>\n",
       "      <td>male</td>\n",
       "    </tr>\n",
       "    <tr>\n",
       "      <th>3</th>\n",
       "      <td>0.151228</td>\n",
       "      <td>0.072111</td>\n",
       "      <td>0.158011</td>\n",
       "      <td>0.096582</td>\n",
       "      <td>0.207955</td>\n",
       "      <td>0.111374</td>\n",
       "      <td>1.232831</td>\n",
       "      <td>4.177296</td>\n",
       "      <td>0.963322</td>\n",
       "      <td>0.727232</td>\n",
       "      <td>...</td>\n",
       "      <td>0.151228</td>\n",
       "      <td>0.088965</td>\n",
       "      <td>0.017798</td>\n",
       "      <td>0.250000</td>\n",
       "      <td>0.201497</td>\n",
       "      <td>0.007812</td>\n",
       "      <td>0.562500</td>\n",
       "      <td>0.554688</td>\n",
       "      <td>0.247119</td>\n",
       "      <td>male</td>\n",
       "    </tr>\n",
       "    <tr>\n",
       "      <th>4</th>\n",
       "      <td>0.135120</td>\n",
       "      <td>0.079146</td>\n",
       "      <td>0.124656</td>\n",
       "      <td>0.078720</td>\n",
       "      <td>0.206045</td>\n",
       "      <td>0.127325</td>\n",
       "      <td>1.101174</td>\n",
       "      <td>4.333713</td>\n",
       "      <td>0.971955</td>\n",
       "      <td>0.783568</td>\n",
       "      <td>...</td>\n",
       "      <td>0.135120</td>\n",
       "      <td>0.106398</td>\n",
       "      <td>0.016931</td>\n",
       "      <td>0.266667</td>\n",
       "      <td>0.712812</td>\n",
       "      <td>0.007812</td>\n",
       "      <td>5.484375</td>\n",
       "      <td>5.476562</td>\n",
       "      <td>0.208274</td>\n",
       "      <td>male</td>\n",
       "    </tr>\n",
       "  </tbody>\n",
       "</table>\n",
       "<p>5 rows × 21 columns</p>\n",
       "</div>"
      ],
      "text/plain": [
       "   meanfreq        sd    median       Q25       Q75       IQR       skew  \\\n",
       "0  0.059781  0.064241  0.032027  0.015071  0.090193  0.075122  12.863462   \n",
       "1  0.066009  0.067310  0.040229  0.019414  0.092666  0.073252  22.423285   \n",
       "2  0.077316  0.083829  0.036718  0.008701  0.131908  0.123207  30.757155   \n",
       "3  0.151228  0.072111  0.158011  0.096582  0.207955  0.111374   1.232831   \n",
       "4  0.135120  0.079146  0.124656  0.078720  0.206045  0.127325   1.101174   \n",
       "\n",
       "          kurt    sp.ent       sfm  ...  centroid   meanfun    minfun  \\\n",
       "0   274.402906  0.893369  0.491918  ...  0.059781  0.084279  0.015702   \n",
       "1   634.613855  0.892193  0.513724  ...  0.066009  0.107937  0.015826   \n",
       "2  1024.927705  0.846389  0.478905  ...  0.077316  0.098706  0.015656   \n",
       "3     4.177296  0.963322  0.727232  ...  0.151228  0.088965  0.017798   \n",
       "4     4.333713  0.971955  0.783568  ...  0.135120  0.106398  0.016931   \n",
       "\n",
       "     maxfun   meandom    mindom    maxdom   dfrange   modindx  label  \n",
       "0  0.275862  0.007812  0.007812  0.007812  0.000000  0.000000   male  \n",
       "1  0.250000  0.009014  0.007812  0.054688  0.046875  0.052632   male  \n",
       "2  0.271186  0.007990  0.007812  0.015625  0.007812  0.046512   male  \n",
       "3  0.250000  0.201497  0.007812  0.562500  0.554688  0.247119   male  \n",
       "4  0.266667  0.712812  0.007812  5.484375  5.476562  0.208274   male  \n",
       "\n",
       "[5 rows x 21 columns]"
      ]
     },
     "execution_count": 26,
     "metadata": {},
     "output_type": "execute_result"
    }
   ],
   "source": [
    "df = pd.read_csv('voice.csv')\n",
    "df.head()"
   ]
  },
  {
   "cell_type": "code",
   "execution_count": 27,
   "id": "b0e7bbce",
   "metadata": {},
   "outputs": [
    {
     "data": {
      "text/plain": [
       "(3168, 21)"
      ]
     },
     "execution_count": 27,
     "metadata": {},
     "output_type": "execute_result"
    }
   ],
   "source": [
    "df.shape"
   ]
  },
  {
   "cell_type": "markdown",
   "id": "fff1901d",
   "metadata": {},
   "source": [
    "\n",
    "# Checking for null values"
   ]
  },
  {
   "cell_type": "code",
   "execution_count": 28,
   "id": "bd55fa9e",
   "metadata": {},
   "outputs": [
    {
     "data": {
      "text/plain": [
       "meanfreq    0\n",
       "sd          0\n",
       "median      0\n",
       "Q25         0\n",
       "Q75         0\n",
       "IQR         0\n",
       "skew        0\n",
       "kurt        0\n",
       "sp.ent      0\n",
       "sfm         0\n",
       "mode        0\n",
       "centroid    0\n",
       "meanfun     0\n",
       "minfun      0\n",
       "maxfun      0\n",
       "meandom     0\n",
       "mindom      0\n",
       "maxdom      0\n",
       "dfrange     0\n",
       "modindx     0\n",
       "label       0\n",
       "dtype: int64"
      ]
     },
     "execution_count": 28,
     "metadata": {},
     "output_type": "execute_result"
    }
   ],
   "source": [
    "df.isnull().sum()"
   ]
  },
  {
   "cell_type": "code",
   "execution_count": 29,
   "id": "de3a2e75",
   "metadata": {},
   "outputs": [
    {
     "data": {
      "text/plain": [
       "2"
      ]
     },
     "execution_count": 29,
     "metadata": {},
     "output_type": "execute_result"
    }
   ],
   "source": [
    "df.duplicated().sum()"
   ]
  },
  {
   "cell_type": "code",
   "execution_count": 30,
   "id": "0c9e496b",
   "metadata": {},
   "outputs": [
    {
     "data": {
      "text/plain": [
       "meanfreq    float64\n",
       "sd          float64\n",
       "median      float64\n",
       "Q25         float64\n",
       "Q75         float64\n",
       "IQR         float64\n",
       "skew        float64\n",
       "kurt        float64\n",
       "sp.ent      float64\n",
       "sfm         float64\n",
       "mode        float64\n",
       "centroid    float64\n",
       "meanfun     float64\n",
       "minfun      float64\n",
       "maxfun      float64\n",
       "meandom     float64\n",
       "mindom      float64\n",
       "maxdom      float64\n",
       "dfrange     float64\n",
       "modindx     float64\n",
       "label        object\n",
       "dtype: object"
      ]
     },
     "execution_count": 30,
     "metadata": {},
     "output_type": "execute_result"
    }
   ],
   "source": [
    "df.dtypes"
   ]
  },
  {
   "cell_type": "code",
   "execution_count": 31,
   "id": "0f2a5c56",
   "metadata": {},
   "outputs": [
    {
     "data": {
      "text/plain": [
       "male      1584\n",
       "female    1584\n",
       "Name: label, dtype: int64"
      ]
     },
     "execution_count": 31,
     "metadata": {},
     "output_type": "execute_result"
    }
   ],
   "source": [
    "df['label'].value_counts()"
   ]
  },
  {
   "cell_type": "markdown",
   "id": "3a69403b",
   "metadata": {},
   "source": [
    "# Handling the Categorical columns"
   ]
  },
  {
   "cell_type": "code",
   "execution_count": 32,
   "id": "e06afa4b",
   "metadata": {},
   "outputs": [],
   "source": [
    "from sklearn.preprocessing import LabelEncoder\n",
    "lb = LabelEncoder()"
   ]
  },
  {
   "cell_type": "code",
   "execution_count": 33,
   "id": "913b8cc7",
   "metadata": {},
   "outputs": [
    {
     "data": {
      "text/plain": [
       "male      1584\n",
       "female    1584\n",
       "Name: label, dtype: int64"
      ]
     },
     "execution_count": 33,
     "metadata": {},
     "output_type": "execute_result"
    }
   ],
   "source": [
    "df['label'].value_counts()"
   ]
  },
  {
   "cell_type": "code",
   "execution_count": 34,
   "id": "2e12afb3",
   "metadata": {},
   "outputs": [
    {
     "data": {
      "text/plain": [
       "1    1584\n",
       "0    1584\n",
       "Name: label, dtype: int64"
      ]
     },
     "execution_count": 34,
     "metadata": {},
     "output_type": "execute_result"
    }
   ],
   "source": [
    "df['label'] = lb.fit_transform(df['label'])\n",
    "df['label'].value_counts()"
   ]
  },
  {
   "cell_type": "code",
   "execution_count": 35,
   "id": "84d1e1af",
   "metadata": {},
   "outputs": [
    {
     "data": {
      "text/html": [
       "<div>\n",
       "<style scoped>\n",
       "    .dataframe tbody tr th:only-of-type {\n",
       "        vertical-align: middle;\n",
       "    }\n",
       "\n",
       "    .dataframe tbody tr th {\n",
       "        vertical-align: top;\n",
       "    }\n",
       "\n",
       "    .dataframe thead th {\n",
       "        text-align: right;\n",
       "    }\n",
       "</style>\n",
       "<table border=\"1\" class=\"dataframe\">\n",
       "  <thead>\n",
       "    <tr style=\"text-align: right;\">\n",
       "      <th></th>\n",
       "      <th>meanfreq</th>\n",
       "      <th>sd</th>\n",
       "      <th>median</th>\n",
       "      <th>Q25</th>\n",
       "      <th>Q75</th>\n",
       "      <th>IQR</th>\n",
       "      <th>skew</th>\n",
       "      <th>kurt</th>\n",
       "      <th>sp.ent</th>\n",
       "      <th>sfm</th>\n",
       "      <th>...</th>\n",
       "      <th>centroid</th>\n",
       "      <th>meanfun</th>\n",
       "      <th>minfun</th>\n",
       "      <th>maxfun</th>\n",
       "      <th>meandom</th>\n",
       "      <th>mindom</th>\n",
       "      <th>maxdom</th>\n",
       "      <th>dfrange</th>\n",
       "      <th>modindx</th>\n",
       "      <th>label</th>\n",
       "    </tr>\n",
       "  </thead>\n",
       "  <tbody>\n",
       "    <tr>\n",
       "      <th>0</th>\n",
       "      <td>0.059781</td>\n",
       "      <td>0.064241</td>\n",
       "      <td>0.032027</td>\n",
       "      <td>0.015071</td>\n",
       "      <td>0.090193</td>\n",
       "      <td>0.075122</td>\n",
       "      <td>12.863462</td>\n",
       "      <td>274.402906</td>\n",
       "      <td>0.893369</td>\n",
       "      <td>0.491918</td>\n",
       "      <td>...</td>\n",
       "      <td>0.059781</td>\n",
       "      <td>0.084279</td>\n",
       "      <td>0.015702</td>\n",
       "      <td>0.275862</td>\n",
       "      <td>0.007812</td>\n",
       "      <td>0.007812</td>\n",
       "      <td>0.007812</td>\n",
       "      <td>0.000000</td>\n",
       "      <td>0.000000</td>\n",
       "      <td>1</td>\n",
       "    </tr>\n",
       "    <tr>\n",
       "      <th>1</th>\n",
       "      <td>0.066009</td>\n",
       "      <td>0.067310</td>\n",
       "      <td>0.040229</td>\n",
       "      <td>0.019414</td>\n",
       "      <td>0.092666</td>\n",
       "      <td>0.073252</td>\n",
       "      <td>22.423285</td>\n",
       "      <td>634.613855</td>\n",
       "      <td>0.892193</td>\n",
       "      <td>0.513724</td>\n",
       "      <td>...</td>\n",
       "      <td>0.066009</td>\n",
       "      <td>0.107937</td>\n",
       "      <td>0.015826</td>\n",
       "      <td>0.250000</td>\n",
       "      <td>0.009014</td>\n",
       "      <td>0.007812</td>\n",
       "      <td>0.054688</td>\n",
       "      <td>0.046875</td>\n",
       "      <td>0.052632</td>\n",
       "      <td>1</td>\n",
       "    </tr>\n",
       "    <tr>\n",
       "      <th>2</th>\n",
       "      <td>0.077316</td>\n",
       "      <td>0.083829</td>\n",
       "      <td>0.036718</td>\n",
       "      <td>0.008701</td>\n",
       "      <td>0.131908</td>\n",
       "      <td>0.123207</td>\n",
       "      <td>30.757155</td>\n",
       "      <td>1024.927705</td>\n",
       "      <td>0.846389</td>\n",
       "      <td>0.478905</td>\n",
       "      <td>...</td>\n",
       "      <td>0.077316</td>\n",
       "      <td>0.098706</td>\n",
       "      <td>0.015656</td>\n",
       "      <td>0.271186</td>\n",
       "      <td>0.007990</td>\n",
       "      <td>0.007812</td>\n",
       "      <td>0.015625</td>\n",
       "      <td>0.007812</td>\n",
       "      <td>0.046512</td>\n",
       "      <td>1</td>\n",
       "    </tr>\n",
       "    <tr>\n",
       "      <th>3</th>\n",
       "      <td>0.151228</td>\n",
       "      <td>0.072111</td>\n",
       "      <td>0.158011</td>\n",
       "      <td>0.096582</td>\n",
       "      <td>0.207955</td>\n",
       "      <td>0.111374</td>\n",
       "      <td>1.232831</td>\n",
       "      <td>4.177296</td>\n",
       "      <td>0.963322</td>\n",
       "      <td>0.727232</td>\n",
       "      <td>...</td>\n",
       "      <td>0.151228</td>\n",
       "      <td>0.088965</td>\n",
       "      <td>0.017798</td>\n",
       "      <td>0.250000</td>\n",
       "      <td>0.201497</td>\n",
       "      <td>0.007812</td>\n",
       "      <td>0.562500</td>\n",
       "      <td>0.554688</td>\n",
       "      <td>0.247119</td>\n",
       "      <td>1</td>\n",
       "    </tr>\n",
       "    <tr>\n",
       "      <th>4</th>\n",
       "      <td>0.135120</td>\n",
       "      <td>0.079146</td>\n",
       "      <td>0.124656</td>\n",
       "      <td>0.078720</td>\n",
       "      <td>0.206045</td>\n",
       "      <td>0.127325</td>\n",
       "      <td>1.101174</td>\n",
       "      <td>4.333713</td>\n",
       "      <td>0.971955</td>\n",
       "      <td>0.783568</td>\n",
       "      <td>...</td>\n",
       "      <td>0.135120</td>\n",
       "      <td>0.106398</td>\n",
       "      <td>0.016931</td>\n",
       "      <td>0.266667</td>\n",
       "      <td>0.712812</td>\n",
       "      <td>0.007812</td>\n",
       "      <td>5.484375</td>\n",
       "      <td>5.476562</td>\n",
       "      <td>0.208274</td>\n",
       "      <td>1</td>\n",
       "    </tr>\n",
       "  </tbody>\n",
       "</table>\n",
       "<p>5 rows × 21 columns</p>\n",
       "</div>"
      ],
      "text/plain": [
       "   meanfreq        sd    median       Q25       Q75       IQR       skew  \\\n",
       "0  0.059781  0.064241  0.032027  0.015071  0.090193  0.075122  12.863462   \n",
       "1  0.066009  0.067310  0.040229  0.019414  0.092666  0.073252  22.423285   \n",
       "2  0.077316  0.083829  0.036718  0.008701  0.131908  0.123207  30.757155   \n",
       "3  0.151228  0.072111  0.158011  0.096582  0.207955  0.111374   1.232831   \n",
       "4  0.135120  0.079146  0.124656  0.078720  0.206045  0.127325   1.101174   \n",
       "\n",
       "          kurt    sp.ent       sfm  ...  centroid   meanfun    minfun  \\\n",
       "0   274.402906  0.893369  0.491918  ...  0.059781  0.084279  0.015702   \n",
       "1   634.613855  0.892193  0.513724  ...  0.066009  0.107937  0.015826   \n",
       "2  1024.927705  0.846389  0.478905  ...  0.077316  0.098706  0.015656   \n",
       "3     4.177296  0.963322  0.727232  ...  0.151228  0.088965  0.017798   \n",
       "4     4.333713  0.971955  0.783568  ...  0.135120  0.106398  0.016931   \n",
       "\n",
       "     maxfun   meandom    mindom    maxdom   dfrange   modindx  label  \n",
       "0  0.275862  0.007812  0.007812  0.007812  0.000000  0.000000      1  \n",
       "1  0.250000  0.009014  0.007812  0.054688  0.046875  0.052632      1  \n",
       "2  0.271186  0.007990  0.007812  0.015625  0.007812  0.046512      1  \n",
       "3  0.250000  0.201497  0.007812  0.562500  0.554688  0.247119      1  \n",
       "4  0.266667  0.712812  0.007812  5.484375  5.476562  0.208274      1  \n",
       "\n",
       "[5 rows x 21 columns]"
      ]
     },
     "execution_count": 35,
     "metadata": {},
     "output_type": "execute_result"
    }
   ],
   "source": [
    "df.head()"
   ]
  },
  {
   "cell_type": "code",
   "execution_count": 36,
   "id": "ba990243",
   "metadata": {},
   "outputs": [
    {
     "data": {
      "text/plain": [
       "meanfreq    float64\n",
       "sd          float64\n",
       "median      float64\n",
       "Q25         float64\n",
       "Q75         float64\n",
       "IQR         float64\n",
       "skew        float64\n",
       "kurt        float64\n",
       "sp.ent      float64\n",
       "sfm         float64\n",
       "mode        float64\n",
       "centroid    float64\n",
       "meanfun     float64\n",
       "minfun      float64\n",
       "maxfun      float64\n",
       "meandom     float64\n",
       "mindom      float64\n",
       "maxdom      float64\n",
       "dfrange     float64\n",
       "modindx     float64\n",
       "label         int32\n",
       "dtype: object"
      ]
     },
     "execution_count": 36,
     "metadata": {},
     "output_type": "execute_result"
    }
   ],
   "source": [
    "df.dtypes"
   ]
  },
  {
   "cell_type": "code",
   "execution_count": 37,
   "id": "d3a71b71",
   "metadata": {},
   "outputs": [
    {
     "data": {
      "text/plain": [
       "Index(['meanfreq', 'sd', 'median', 'Q25', 'Q75', 'IQR', 'skew', 'kurt',\n",
       "       'sp.ent', 'sfm', 'mode', 'centroid', 'meanfun', 'minfun', 'maxfun',\n",
       "       'meandom', 'mindom', 'maxdom', 'dfrange', 'modindx', 'label'],\n",
       "      dtype='object')"
      ]
     },
     "execution_count": 37,
     "metadata": {},
     "output_type": "execute_result"
    }
   ],
   "source": [
    "df.columns"
   ]
  },
  {
   "cell_type": "code",
   "execution_count": 38,
   "id": "7562a4b9",
   "metadata": {},
   "outputs": [
    {
     "name": "stdout",
     "output_type": "stream",
     "text": [
      "<class 'pandas.core.frame.DataFrame'>\n",
      "<class 'pandas.core.series.Series'>\n",
      "(3168, 20)\n",
      "(3168,)\n"
     ]
    }
   ],
   "source": [
    "x = df.drop('label',axis=1)\n",
    "y = df['label']\n",
    "print(type(x))\n",
    "print(type(y))\n",
    "print(x.shape)\n",
    "print(y.shape)"
   ]
  },
  {
   "cell_type": "code",
   "execution_count": 39,
   "id": "b41602b6",
   "metadata": {},
   "outputs": [
    {
     "data": {
      "text/html": [
       "<div>\n",
       "<style scoped>\n",
       "    .dataframe tbody tr th:only-of-type {\n",
       "        vertical-align: middle;\n",
       "    }\n",
       "\n",
       "    .dataframe tbody tr th {\n",
       "        vertical-align: top;\n",
       "    }\n",
       "\n",
       "    .dataframe thead th {\n",
       "        text-align: right;\n",
       "    }\n",
       "</style>\n",
       "<table border=\"1\" class=\"dataframe\">\n",
       "  <thead>\n",
       "    <tr style=\"text-align: right;\">\n",
       "      <th></th>\n",
       "      <th>meanfreq</th>\n",
       "      <th>sd</th>\n",
       "      <th>median</th>\n",
       "      <th>Q25</th>\n",
       "      <th>Q75</th>\n",
       "      <th>IQR</th>\n",
       "      <th>skew</th>\n",
       "      <th>kurt</th>\n",
       "      <th>sp.ent</th>\n",
       "      <th>sfm</th>\n",
       "      <th>mode</th>\n",
       "      <th>centroid</th>\n",
       "      <th>meanfun</th>\n",
       "      <th>minfun</th>\n",
       "      <th>maxfun</th>\n",
       "      <th>meandom</th>\n",
       "      <th>mindom</th>\n",
       "      <th>maxdom</th>\n",
       "      <th>dfrange</th>\n",
       "      <th>modindx</th>\n",
       "    </tr>\n",
       "  </thead>\n",
       "  <tbody>\n",
       "    <tr>\n",
       "      <th>0</th>\n",
       "      <td>0.059781</td>\n",
       "      <td>0.064241</td>\n",
       "      <td>0.032027</td>\n",
       "      <td>0.015071</td>\n",
       "      <td>0.090193</td>\n",
       "      <td>0.075122</td>\n",
       "      <td>12.863462</td>\n",
       "      <td>274.402906</td>\n",
       "      <td>0.893369</td>\n",
       "      <td>0.491918</td>\n",
       "      <td>0.000000</td>\n",
       "      <td>0.059781</td>\n",
       "      <td>0.084279</td>\n",
       "      <td>0.015702</td>\n",
       "      <td>0.275862</td>\n",
       "      <td>0.007812</td>\n",
       "      <td>0.007812</td>\n",
       "      <td>0.007812</td>\n",
       "      <td>0.000000</td>\n",
       "      <td>0.000000</td>\n",
       "    </tr>\n",
       "    <tr>\n",
       "      <th>1</th>\n",
       "      <td>0.066009</td>\n",
       "      <td>0.067310</td>\n",
       "      <td>0.040229</td>\n",
       "      <td>0.019414</td>\n",
       "      <td>0.092666</td>\n",
       "      <td>0.073252</td>\n",
       "      <td>22.423285</td>\n",
       "      <td>634.613855</td>\n",
       "      <td>0.892193</td>\n",
       "      <td>0.513724</td>\n",
       "      <td>0.000000</td>\n",
       "      <td>0.066009</td>\n",
       "      <td>0.107937</td>\n",
       "      <td>0.015826</td>\n",
       "      <td>0.250000</td>\n",
       "      <td>0.009014</td>\n",
       "      <td>0.007812</td>\n",
       "      <td>0.054688</td>\n",
       "      <td>0.046875</td>\n",
       "      <td>0.052632</td>\n",
       "    </tr>\n",
       "    <tr>\n",
       "      <th>2</th>\n",
       "      <td>0.077316</td>\n",
       "      <td>0.083829</td>\n",
       "      <td>0.036718</td>\n",
       "      <td>0.008701</td>\n",
       "      <td>0.131908</td>\n",
       "      <td>0.123207</td>\n",
       "      <td>30.757155</td>\n",
       "      <td>1024.927705</td>\n",
       "      <td>0.846389</td>\n",
       "      <td>0.478905</td>\n",
       "      <td>0.000000</td>\n",
       "      <td>0.077316</td>\n",
       "      <td>0.098706</td>\n",
       "      <td>0.015656</td>\n",
       "      <td>0.271186</td>\n",
       "      <td>0.007990</td>\n",
       "      <td>0.007812</td>\n",
       "      <td>0.015625</td>\n",
       "      <td>0.007812</td>\n",
       "      <td>0.046512</td>\n",
       "    </tr>\n",
       "    <tr>\n",
       "      <th>3</th>\n",
       "      <td>0.151228</td>\n",
       "      <td>0.072111</td>\n",
       "      <td>0.158011</td>\n",
       "      <td>0.096582</td>\n",
       "      <td>0.207955</td>\n",
       "      <td>0.111374</td>\n",
       "      <td>1.232831</td>\n",
       "      <td>4.177296</td>\n",
       "      <td>0.963322</td>\n",
       "      <td>0.727232</td>\n",
       "      <td>0.083878</td>\n",
       "      <td>0.151228</td>\n",
       "      <td>0.088965</td>\n",
       "      <td>0.017798</td>\n",
       "      <td>0.250000</td>\n",
       "      <td>0.201497</td>\n",
       "      <td>0.007812</td>\n",
       "      <td>0.562500</td>\n",
       "      <td>0.554688</td>\n",
       "      <td>0.247119</td>\n",
       "    </tr>\n",
       "    <tr>\n",
       "      <th>4</th>\n",
       "      <td>0.135120</td>\n",
       "      <td>0.079146</td>\n",
       "      <td>0.124656</td>\n",
       "      <td>0.078720</td>\n",
       "      <td>0.206045</td>\n",
       "      <td>0.127325</td>\n",
       "      <td>1.101174</td>\n",
       "      <td>4.333713</td>\n",
       "      <td>0.971955</td>\n",
       "      <td>0.783568</td>\n",
       "      <td>0.104261</td>\n",
       "      <td>0.135120</td>\n",
       "      <td>0.106398</td>\n",
       "      <td>0.016931</td>\n",
       "      <td>0.266667</td>\n",
       "      <td>0.712812</td>\n",
       "      <td>0.007812</td>\n",
       "      <td>5.484375</td>\n",
       "      <td>5.476562</td>\n",
       "      <td>0.208274</td>\n",
       "    </tr>\n",
       "  </tbody>\n",
       "</table>\n",
       "</div>"
      ],
      "text/plain": [
       "   meanfreq        sd    median       Q25       Q75       IQR       skew  \\\n",
       "0  0.059781  0.064241  0.032027  0.015071  0.090193  0.075122  12.863462   \n",
       "1  0.066009  0.067310  0.040229  0.019414  0.092666  0.073252  22.423285   \n",
       "2  0.077316  0.083829  0.036718  0.008701  0.131908  0.123207  30.757155   \n",
       "3  0.151228  0.072111  0.158011  0.096582  0.207955  0.111374   1.232831   \n",
       "4  0.135120  0.079146  0.124656  0.078720  0.206045  0.127325   1.101174   \n",
       "\n",
       "          kurt    sp.ent       sfm      mode  centroid   meanfun    minfun  \\\n",
       "0   274.402906  0.893369  0.491918  0.000000  0.059781  0.084279  0.015702   \n",
       "1   634.613855  0.892193  0.513724  0.000000  0.066009  0.107937  0.015826   \n",
       "2  1024.927705  0.846389  0.478905  0.000000  0.077316  0.098706  0.015656   \n",
       "3     4.177296  0.963322  0.727232  0.083878  0.151228  0.088965  0.017798   \n",
       "4     4.333713  0.971955  0.783568  0.104261  0.135120  0.106398  0.016931   \n",
       "\n",
       "     maxfun   meandom    mindom    maxdom   dfrange   modindx  \n",
       "0  0.275862  0.007812  0.007812  0.007812  0.000000  0.000000  \n",
       "1  0.250000  0.009014  0.007812  0.054688  0.046875  0.052632  \n",
       "2  0.271186  0.007990  0.007812  0.015625  0.007812  0.046512  \n",
       "3  0.250000  0.201497  0.007812  0.562500  0.554688  0.247119  \n",
       "4  0.266667  0.712812  0.007812  5.484375  5.476562  0.208274  "
      ]
     },
     "execution_count": 39,
     "metadata": {},
     "output_type": "execute_result"
    }
   ],
   "source": [
    "x.head()"
   ]
  },
  {
   "cell_type": "code",
   "execution_count": 40,
   "id": "378bacef",
   "metadata": {},
   "outputs": [
    {
     "data": {
      "text/plain": [
       "0    1\n",
       "1    1\n",
       "2    1\n",
       "3    1\n",
       "4    1\n",
       "Name: label, dtype: int32"
      ]
     },
     "execution_count": 40,
     "metadata": {},
     "output_type": "execute_result"
    }
   ],
   "source": [
    "y.head()"
   ]
  },
  {
   "cell_type": "markdown",
   "id": "1884a3c7",
   "metadata": {},
   "source": [
    "# Spliting the training data  and testing data"
   ]
  },
  {
   "cell_type": "code",
   "execution_count": 41,
   "id": "4f251b1a",
   "metadata": {},
   "outputs": [],
   "source": [
    "from sklearn.model_selection import train_test_split"
   ]
  },
  {
   "cell_type": "code",
   "execution_count": 42,
   "id": "040466db",
   "metadata": {},
   "outputs": [
    {
     "data": {
      "text/plain": [
       "633.6"
      ]
     },
     "execution_count": 42,
     "metadata": {},
     "output_type": "execute_result"
    }
   ],
   "source": [
    "0.20*3168"
   ]
  },
  {
   "cell_type": "code",
   "execution_count": 43,
   "id": "d69d82fd",
   "metadata": {},
   "outputs": [
    {
     "name": "stdout",
     "output_type": "stream",
     "text": [
      "(2534, 20)\n",
      "(634, 20)\n",
      "(2534,)\n",
      "(634,)\n"
     ]
    }
   ],
   "source": [
    "x_train,x_test,y_train,y_test = train_test_split(x,y,test_size=0.20)\n",
    "print(x_train.shape)\n",
    "print(x_test.shape)\n",
    "print(y_train.shape)\n",
    "print(y_test.shape)"
   ]
  },
  {
   "cell_type": "code",
   "execution_count": 44,
   "id": "1ea4c2de",
   "metadata": {},
   "outputs": [
    {
     "data": {
      "text/html": [
       "<div>\n",
       "<style scoped>\n",
       "    .dataframe tbody tr th:only-of-type {\n",
       "        vertical-align: middle;\n",
       "    }\n",
       "\n",
       "    .dataframe tbody tr th {\n",
       "        vertical-align: top;\n",
       "    }\n",
       "\n",
       "    .dataframe thead th {\n",
       "        text-align: right;\n",
       "    }\n",
       "</style>\n",
       "<table border=\"1\" class=\"dataframe\">\n",
       "  <thead>\n",
       "    <tr style=\"text-align: right;\">\n",
       "      <th></th>\n",
       "      <th>meanfreq</th>\n",
       "      <th>sd</th>\n",
       "      <th>median</th>\n",
       "      <th>Q25</th>\n",
       "      <th>Q75</th>\n",
       "      <th>IQR</th>\n",
       "      <th>skew</th>\n",
       "      <th>kurt</th>\n",
       "      <th>sp.ent</th>\n",
       "      <th>sfm</th>\n",
       "      <th>mode</th>\n",
       "      <th>centroid</th>\n",
       "      <th>meanfun</th>\n",
       "      <th>minfun</th>\n",
       "      <th>maxfun</th>\n",
       "      <th>meandom</th>\n",
       "      <th>mindom</th>\n",
       "      <th>maxdom</th>\n",
       "      <th>dfrange</th>\n",
       "      <th>modindx</th>\n",
       "    </tr>\n",
       "  </thead>\n",
       "  <tbody>\n",
       "    <tr>\n",
       "      <th>1109</th>\n",
       "      <td>0.182813</td>\n",
       "      <td>0.058998</td>\n",
       "      <td>0.162857</td>\n",
       "      <td>0.137959</td>\n",
       "      <td>0.237551</td>\n",
       "      <td>0.099592</td>\n",
       "      <td>1.361351</td>\n",
       "      <td>4.698105</td>\n",
       "      <td>0.917399</td>\n",
       "      <td>0.414762</td>\n",
       "      <td>0.140816</td>\n",
       "      <td>0.182813</td>\n",
       "      <td>0.137282</td>\n",
       "      <td>0.047809</td>\n",
       "      <td>0.279070</td>\n",
       "      <td>1.078635</td>\n",
       "      <td>0.023438</td>\n",
       "      <td>4.875000</td>\n",
       "      <td>4.851562</td>\n",
       "      <td>0.179363</td>\n",
       "    </tr>\n",
       "    <tr>\n",
       "      <th>1108</th>\n",
       "      <td>0.193563</td>\n",
       "      <td>0.061596</td>\n",
       "      <td>0.204000</td>\n",
       "      <td>0.137333</td>\n",
       "      <td>0.250667</td>\n",
       "      <td>0.113333</td>\n",
       "      <td>0.901382</td>\n",
       "      <td>3.251373</td>\n",
       "      <td>0.922266</td>\n",
       "      <td>0.373547</td>\n",
       "      <td>0.276444</td>\n",
       "      <td>0.193563</td>\n",
       "      <td>0.118220</td>\n",
       "      <td>0.046921</td>\n",
       "      <td>0.279070</td>\n",
       "      <td>1.195791</td>\n",
       "      <td>0.023438</td>\n",
       "      <td>5.320312</td>\n",
       "      <td>5.296875</td>\n",
       "      <td>0.187572</td>\n",
       "    </tr>\n",
       "    <tr>\n",
       "      <th>3103</th>\n",
       "      <td>0.163121</td>\n",
       "      <td>0.057343</td>\n",
       "      <td>0.172697</td>\n",
       "      <td>0.160052</td>\n",
       "      <td>0.185884</td>\n",
       "      <td>0.025832</td>\n",
       "      <td>5.241166</td>\n",
       "      <td>35.342732</td>\n",
       "      <td>0.880084</td>\n",
       "      <td>0.456706</td>\n",
       "      <td>0.171794</td>\n",
       "      <td>0.163121</td>\n",
       "      <td>0.146714</td>\n",
       "      <td>0.010776</td>\n",
       "      <td>0.232558</td>\n",
       "      <td>0.819770</td>\n",
       "      <td>0.170898</td>\n",
       "      <td>3.706055</td>\n",
       "      <td>3.535156</td>\n",
       "      <td>0.378241</td>\n",
       "    </tr>\n",
       "    <tr>\n",
       "      <th>2868</th>\n",
       "      <td>0.209865</td>\n",
       "      <td>0.037842</td>\n",
       "      <td>0.212121</td>\n",
       "      <td>0.194705</td>\n",
       "      <td>0.233557</td>\n",
       "      <td>0.038852</td>\n",
       "      <td>1.562059</td>\n",
       "      <td>4.462272</td>\n",
       "      <td>0.865804</td>\n",
       "      <td>0.273495</td>\n",
       "      <td>0.209888</td>\n",
       "      <td>0.209865</td>\n",
       "      <td>0.174650</td>\n",
       "      <td>0.048048</td>\n",
       "      <td>0.279070</td>\n",
       "      <td>0.854651</td>\n",
       "      <td>0.023438</td>\n",
       "      <td>5.578125</td>\n",
       "      <td>5.554688</td>\n",
       "      <td>0.054186</td>\n",
       "    </tr>\n",
       "    <tr>\n",
       "      <th>230</th>\n",
       "      <td>0.124883</td>\n",
       "      <td>0.077808</td>\n",
       "      <td>0.113888</td>\n",
       "      <td>0.068899</td>\n",
       "      <td>0.201034</td>\n",
       "      <td>0.132135</td>\n",
       "      <td>3.990390</td>\n",
       "      <td>24.360696</td>\n",
       "      <td>0.927987</td>\n",
       "      <td>0.617386</td>\n",
       "      <td>0.000000</td>\n",
       "      <td>0.124883</td>\n",
       "      <td>0.116251</td>\n",
       "      <td>0.017410</td>\n",
       "      <td>0.258065</td>\n",
       "      <td>0.149414</td>\n",
       "      <td>0.007812</td>\n",
       "      <td>0.734375</td>\n",
       "      <td>0.726562</td>\n",
       "      <td>0.198157</td>\n",
       "    </tr>\n",
       "  </tbody>\n",
       "</table>\n",
       "</div>"
      ],
      "text/plain": [
       "      meanfreq        sd    median       Q25       Q75       IQR      skew  \\\n",
       "1109  0.182813  0.058998  0.162857  0.137959  0.237551  0.099592  1.361351   \n",
       "1108  0.193563  0.061596  0.204000  0.137333  0.250667  0.113333  0.901382   \n",
       "3103  0.163121  0.057343  0.172697  0.160052  0.185884  0.025832  5.241166   \n",
       "2868  0.209865  0.037842  0.212121  0.194705  0.233557  0.038852  1.562059   \n",
       "230   0.124883  0.077808  0.113888  0.068899  0.201034  0.132135  3.990390   \n",
       "\n",
       "           kurt    sp.ent       sfm      mode  centroid   meanfun    minfun  \\\n",
       "1109   4.698105  0.917399  0.414762  0.140816  0.182813  0.137282  0.047809   \n",
       "1108   3.251373  0.922266  0.373547  0.276444  0.193563  0.118220  0.046921   \n",
       "3103  35.342732  0.880084  0.456706  0.171794  0.163121  0.146714  0.010776   \n",
       "2868   4.462272  0.865804  0.273495  0.209888  0.209865  0.174650  0.048048   \n",
       "230   24.360696  0.927987  0.617386  0.000000  0.124883  0.116251  0.017410   \n",
       "\n",
       "        maxfun   meandom    mindom    maxdom   dfrange   modindx  \n",
       "1109  0.279070  1.078635  0.023438  4.875000  4.851562  0.179363  \n",
       "1108  0.279070  1.195791  0.023438  5.320312  5.296875  0.187572  \n",
       "3103  0.232558  0.819770  0.170898  3.706055  3.535156  0.378241  \n",
       "2868  0.279070  0.854651  0.023438  5.578125  5.554688  0.054186  \n",
       "230   0.258065  0.149414  0.007812  0.734375  0.726562  0.198157  "
      ]
     },
     "execution_count": 44,
     "metadata": {},
     "output_type": "execute_result"
    }
   ],
   "source": [
    "x_train.head()"
   ]
  },
  {
   "cell_type": "code",
   "execution_count": 45,
   "id": "bd779641",
   "metadata": {},
   "outputs": [
    {
     "data": {
      "text/plain": [
       "1109    1\n",
       "1108    1\n",
       "3103    0\n",
       "2868    0\n",
       "230     1\n",
       "Name: label, dtype: int32"
      ]
     },
     "execution_count": 45,
     "metadata": {},
     "output_type": "execute_result"
    }
   ],
   "source": [
    "y_train.head()"
   ]
  },
  {
   "cell_type": "code",
   "execution_count": 46,
   "id": "cf8961cd",
   "metadata": {},
   "outputs": [
    {
     "data": {
      "text/html": [
       "<div>\n",
       "<style scoped>\n",
       "    .dataframe tbody tr th:only-of-type {\n",
       "        vertical-align: middle;\n",
       "    }\n",
       "\n",
       "    .dataframe tbody tr th {\n",
       "        vertical-align: top;\n",
       "    }\n",
       "\n",
       "    .dataframe thead th {\n",
       "        text-align: right;\n",
       "    }\n",
       "</style>\n",
       "<table border=\"1\" class=\"dataframe\">\n",
       "  <thead>\n",
       "    <tr style=\"text-align: right;\">\n",
       "      <th></th>\n",
       "      <th>meanfreq</th>\n",
       "      <th>sd</th>\n",
       "      <th>median</th>\n",
       "      <th>Q25</th>\n",
       "      <th>Q75</th>\n",
       "      <th>IQR</th>\n",
       "      <th>skew</th>\n",
       "      <th>kurt</th>\n",
       "      <th>sp.ent</th>\n",
       "      <th>sfm</th>\n",
       "      <th>mode</th>\n",
       "      <th>centroid</th>\n",
       "      <th>meanfun</th>\n",
       "      <th>minfun</th>\n",
       "      <th>maxfun</th>\n",
       "      <th>meandom</th>\n",
       "      <th>mindom</th>\n",
       "      <th>maxdom</th>\n",
       "      <th>dfrange</th>\n",
       "      <th>modindx</th>\n",
       "    </tr>\n",
       "  </thead>\n",
       "  <tbody>\n",
       "    <tr>\n",
       "      <th>1681</th>\n",
       "      <td>0.135013</td>\n",
       "      <td>0.077275</td>\n",
       "      <td>0.130314</td>\n",
       "      <td>0.069266</td>\n",
       "      <td>0.207505</td>\n",
       "      <td>0.138239</td>\n",
       "      <td>4.096389</td>\n",
       "      <td>45.889237</td>\n",
       "      <td>0.974285</td>\n",
       "      <td>0.822230</td>\n",
       "      <td>0.050189</td>\n",
       "      <td>0.135013</td>\n",
       "      <td>0.137531</td>\n",
       "      <td>0.017297</td>\n",
       "      <td>0.275862</td>\n",
       "      <td>0.130409</td>\n",
       "      <td>0.046875</td>\n",
       "      <td>0.507812</td>\n",
       "      <td>0.460938</td>\n",
       "      <td>0.166780</td>\n",
       "    </tr>\n",
       "    <tr>\n",
       "      <th>839</th>\n",
       "      <td>0.178536</td>\n",
       "      <td>0.057605</td>\n",
       "      <td>0.188939</td>\n",
       "      <td>0.138296</td>\n",
       "      <td>0.206470</td>\n",
       "      <td>0.068174</td>\n",
       "      <td>2.532186</td>\n",
       "      <td>11.531465</td>\n",
       "      <td>0.903636</td>\n",
       "      <td>0.396396</td>\n",
       "      <td>0.200139</td>\n",
       "      <td>0.178536</td>\n",
       "      <td>0.133616</td>\n",
       "      <td>0.049332</td>\n",
       "      <td>0.277457</td>\n",
       "      <td>1.197656</td>\n",
       "      <td>0.023438</td>\n",
       "      <td>7.617188</td>\n",
       "      <td>7.593750</td>\n",
       "      <td>0.201587</td>\n",
       "    </tr>\n",
       "    <tr>\n",
       "      <th>1482</th>\n",
       "      <td>0.194074</td>\n",
       "      <td>0.068020</td>\n",
       "      <td>0.211194</td>\n",
       "      <td>0.159170</td>\n",
       "      <td>0.248889</td>\n",
       "      <td>0.089719</td>\n",
       "      <td>1.681314</td>\n",
       "      <td>6.282421</td>\n",
       "      <td>0.948920</td>\n",
       "      <td>0.643015</td>\n",
       "      <td>0.268898</td>\n",
       "      <td>0.194074</td>\n",
       "      <td>0.111646</td>\n",
       "      <td>0.017719</td>\n",
       "      <td>0.246154</td>\n",
       "      <td>0.767578</td>\n",
       "      <td>0.242188</td>\n",
       "      <td>6.046875</td>\n",
       "      <td>5.804688</td>\n",
       "      <td>0.137003</td>\n",
       "    </tr>\n",
       "    <tr>\n",
       "      <th>1258</th>\n",
       "      <td>0.181020</td>\n",
       "      <td>0.059629</td>\n",
       "      <td>0.163738</td>\n",
       "      <td>0.137570</td>\n",
       "      <td>0.234393</td>\n",
       "      <td>0.096822</td>\n",
       "      <td>1.541186</td>\n",
       "      <td>5.231348</td>\n",
       "      <td>0.924803</td>\n",
       "      <td>0.468433</td>\n",
       "      <td>0.135701</td>\n",
       "      <td>0.181020</td>\n",
       "      <td>0.139198</td>\n",
       "      <td>0.047244</td>\n",
       "      <td>0.279070</td>\n",
       "      <td>1.431526</td>\n",
       "      <td>0.023438</td>\n",
       "      <td>5.578125</td>\n",
       "      <td>5.554688</td>\n",
       "      <td>0.137418</td>\n",
       "    </tr>\n",
       "    <tr>\n",
       "      <th>293</th>\n",
       "      <td>0.097464</td>\n",
       "      <td>0.093731</td>\n",
       "      <td>0.060057</td>\n",
       "      <td>0.008808</td>\n",
       "      <td>0.159352</td>\n",
       "      <td>0.150543</td>\n",
       "      <td>10.812681</td>\n",
       "      <td>148.817031</td>\n",
       "      <td>0.878622</td>\n",
       "      <td>0.533373</td>\n",
       "      <td>0.060057</td>\n",
       "      <td>0.097464</td>\n",
       "      <td>0.089682</td>\n",
       "      <td>0.016211</td>\n",
       "      <td>0.275862</td>\n",
       "      <td>0.292295</td>\n",
       "      <td>0.007812</td>\n",
       "      <td>5.054688</td>\n",
       "      <td>5.046875</td>\n",
       "      <td>0.105927</td>\n",
       "    </tr>\n",
       "  </tbody>\n",
       "</table>\n",
       "</div>"
      ],
      "text/plain": [
       "      meanfreq        sd    median       Q25       Q75       IQR       skew  \\\n",
       "1681  0.135013  0.077275  0.130314  0.069266  0.207505  0.138239   4.096389   \n",
       "839   0.178536  0.057605  0.188939  0.138296  0.206470  0.068174   2.532186   \n",
       "1482  0.194074  0.068020  0.211194  0.159170  0.248889  0.089719   1.681314   \n",
       "1258  0.181020  0.059629  0.163738  0.137570  0.234393  0.096822   1.541186   \n",
       "293   0.097464  0.093731  0.060057  0.008808  0.159352  0.150543  10.812681   \n",
       "\n",
       "            kurt    sp.ent       sfm      mode  centroid   meanfun    minfun  \\\n",
       "1681   45.889237  0.974285  0.822230  0.050189  0.135013  0.137531  0.017297   \n",
       "839    11.531465  0.903636  0.396396  0.200139  0.178536  0.133616  0.049332   \n",
       "1482    6.282421  0.948920  0.643015  0.268898  0.194074  0.111646  0.017719   \n",
       "1258    5.231348  0.924803  0.468433  0.135701  0.181020  0.139198  0.047244   \n",
       "293   148.817031  0.878622  0.533373  0.060057  0.097464  0.089682  0.016211   \n",
       "\n",
       "        maxfun   meandom    mindom    maxdom   dfrange   modindx  \n",
       "1681  0.275862  0.130409  0.046875  0.507812  0.460938  0.166780  \n",
       "839   0.277457  1.197656  0.023438  7.617188  7.593750  0.201587  \n",
       "1482  0.246154  0.767578  0.242188  6.046875  5.804688  0.137003  \n",
       "1258  0.279070  1.431526  0.023438  5.578125  5.554688  0.137418  \n",
       "293   0.275862  0.292295  0.007812  5.054688  5.046875  0.105927  "
      ]
     },
     "execution_count": 46,
     "metadata": {},
     "output_type": "execute_result"
    }
   ],
   "source": [
    "x_test.head()"
   ]
  },
  {
   "cell_type": "code",
   "execution_count": 47,
   "id": "b0362de3",
   "metadata": {},
   "outputs": [
    {
     "data": {
      "text/plain": [
       "1681    0\n",
       "839     1\n",
       "1482    1\n",
       "1258    1\n",
       "293     1\n",
       "Name: label, dtype: int32"
      ]
     },
     "execution_count": 47,
     "metadata": {},
     "output_type": "execute_result"
    }
   ],
   "source": [
    "y_test.head()"
   ]
  },
  {
   "cell_type": "markdown",
   "id": "42967ed5",
   "metadata": {},
   "source": [
    "# Creating functions  to compute the confusion_matrix,calassification report and to generate training and testing score"
   ]
  },
  {
   "cell_type": "code",
   "execution_count": 48,
   "id": "f8367b57",
   "metadata": {},
   "outputs": [],
   "source": [
    "from sklearn.metrics import confusion_matrix,classification_report,accuracy_score"
   ]
  },
  {
   "cell_type": "code",
   "execution_count": 49,
   "id": "5b7a1807",
   "metadata": {},
   "outputs": [],
   "source": [
    "def eval_model(ytest,ypred):\n",
    "    cm  = confusion_matrix(ytest,ypred)\n",
    "    print(cm)\n",
    "    print('Accuracy Score',accuracy_score(ytest,ypred))\n",
    "    print(classification_report(ytest,ypred,zero_division=0))\n",
    "    \n",
    "    \n",
    "def mscore(model):\n",
    "    print('Training Score',model.score(x_train,y_train))\n",
    "    print('Testing Score',model.score(x_test,y_test))"
   ]
  },
  {
   "cell_type": "code",
   "execution_count": 50,
   "id": "5d9ed170",
   "metadata": {},
   "outputs": [],
   "source": [
    "from sklearn.linear_model import LogisticRegression\n",
    "from sklearn.tree import DecisionTreeClassifier\n",
    "from sklearn.ensemble import RandomForestClassifier\n",
    "from sklearn.neighbors import KNeighborsClassifier\n",
    "from sklearn.svm import SVC"
   ]
  },
  {
   "cell_type": "markdown",
   "id": "972c97a0",
   "metadata": {},
   "source": [
    "# 1) LogisticRegression"
   ]
  },
  {
   "cell_type": "code",
   "execution_count": 51,
   "id": "60c10fe7",
   "metadata": {},
   "outputs": [
    {
     "data": {
      "text/plain": [
       "LogisticRegression(max_iter=1000, solver='liblinear')"
      ]
     },
     "execution_count": 51,
     "metadata": {},
     "output_type": "execute_result"
    }
   ],
   "source": [
    "m1 = LogisticRegression(max_iter=1000,solver='liblinear')\n",
    "m1.fit(x_train,y_train)"
   ]
  },
  {
   "cell_type": "code",
   "execution_count": 52,
   "id": "5e18e564",
   "metadata": {},
   "outputs": [
    {
     "name": "stdout",
     "output_type": "stream",
     "text": [
      "Training Score 0.9060773480662984\n",
      "Testing Score 0.917981072555205\n"
     ]
    }
   ],
   "source": [
    "mscore(m1)\n"
   ]
  },
  {
   "cell_type": "code",
   "execution_count": 53,
   "id": "07949e7a",
   "metadata": {},
   "outputs": [],
   "source": [
    "ypred_m1=m1.predict(x_test)"
   ]
  },
  {
   "cell_type": "code",
   "execution_count": 54,
   "id": "9e3cca6d",
   "metadata": {},
   "outputs": [
    {
     "name": "stdout",
     "output_type": "stream",
     "text": [
      "[[275  43]\n",
      " [  9 307]]\n",
      "Accuracy Score 0.917981072555205\n",
      "              precision    recall  f1-score   support\n",
      "\n",
      "           0       0.97      0.86      0.91       318\n",
      "           1       0.88      0.97      0.92       316\n",
      "\n",
      "    accuracy                           0.92       634\n",
      "   macro avg       0.92      0.92      0.92       634\n",
      "weighted avg       0.92      0.92      0.92       634\n",
      "\n"
     ]
    }
   ],
   "source": [
    "eval_model(y_test,ypred_m1)"
   ]
  },
  {
   "cell_type": "markdown",
   "id": "6ed6ca35",
   "metadata": {},
   "source": [
    "# 2) Decision Tree"
   ]
  },
  {
   "cell_type": "code",
   "execution_count": 55,
   "id": "aa53f12c",
   "metadata": {},
   "outputs": [
    {
     "data": {
      "text/plain": [
       "DecisionTreeClassifier(max_depth=13, min_samples_split=15)"
      ]
     },
     "execution_count": 55,
     "metadata": {},
     "output_type": "execute_result"
    }
   ],
   "source": [
    "m2 = DecisionTreeClassifier(criterion='gini',max_depth=13,min_samples_split=15)\n",
    "m2.fit(x_train,y_train)"
   ]
  },
  {
   "cell_type": "code",
   "execution_count": 56,
   "id": "12dc2860",
   "metadata": {},
   "outputs": [
    {
     "name": "stdout",
     "output_type": "stream",
     "text": [
      "Training Score 0.9877663772691397\n",
      "Testing Score 0.9779179810725552\n"
     ]
    }
   ],
   "source": [
    "mscore(m2)"
   ]
  },
  {
   "cell_type": "code",
   "execution_count": 57,
   "id": "4890ad93",
   "metadata": {},
   "outputs": [],
   "source": [
    "ypred_m2=m2.predict(x_test)"
   ]
  },
  {
   "cell_type": "code",
   "execution_count": 58,
   "id": "ad36e0e0",
   "metadata": {},
   "outputs": [
    {
     "name": "stdout",
     "output_type": "stream",
     "text": [
      "[[311   7]\n",
      " [  7 309]]\n",
      "Accuracy Score 0.9779179810725552\n",
      "              precision    recall  f1-score   support\n",
      "\n",
      "           0       0.98      0.98      0.98       318\n",
      "           1       0.98      0.98      0.98       316\n",
      "\n",
      "    accuracy                           0.98       634\n",
      "   macro avg       0.98      0.98      0.98       634\n",
      "weighted avg       0.98      0.98      0.98       634\n",
      "\n"
     ]
    }
   ],
   "source": [
    "eval_model(y_test,ypred_m2)"
   ]
  },
  {
   "cell_type": "markdown",
   "id": "da031dca",
   "metadata": {},
   "source": [
    "# 3) Kneighbors Classifier"
   ]
  },
  {
   "cell_type": "code",
   "execution_count": 59,
   "id": "c9652f42",
   "metadata": {},
   "outputs": [
    {
     "data": {
      "text/plain": [
       "KNeighborsClassifier(n_neighbors=10)"
      ]
     },
     "execution_count": 59,
     "metadata": {},
     "output_type": "execute_result"
    }
   ],
   "source": [
    "m3=KNeighborsClassifier(n_neighbors=10)\n",
    "m3.fit(x_train,y_train)"
   ]
  },
  {
   "cell_type": "code",
   "execution_count": 60,
   "id": "555176bc",
   "metadata": {},
   "outputs": [
    {
     "name": "stdout",
     "output_type": "stream",
     "text": [
      "Training Score 0.7600631412786109\n",
      "Testing Score 0.7082018927444795\n"
     ]
    }
   ],
   "source": [
    "mscore(m3)"
   ]
  },
  {
   "cell_type": "code",
   "execution_count": 61,
   "id": "3c643939",
   "metadata": {},
   "outputs": [],
   "source": [
    "ypred_m3=m3.predict(x_test)"
   ]
  },
  {
   "cell_type": "code",
   "execution_count": 62,
   "id": "0734d92f",
   "metadata": {},
   "outputs": [
    {
     "name": "stdout",
     "output_type": "stream",
     "text": [
      "[[225  93]\n",
      " [ 92 224]]\n",
      "Accuracy Score 0.7082018927444795\n",
      "              precision    recall  f1-score   support\n",
      "\n",
      "           0       0.71      0.71      0.71       318\n",
      "           1       0.71      0.71      0.71       316\n",
      "\n",
      "    accuracy                           0.71       634\n",
      "   macro avg       0.71      0.71      0.71       634\n",
      "weighted avg       0.71      0.71      0.71       634\n",
      "\n"
     ]
    }
   ],
   "source": [
    "eval_model(y_test,ypred_m3)"
   ]
  },
  {
   "cell_type": "markdown",
   "id": "e9bf246c",
   "metadata": {},
   "source": [
    "# 4) Random Forest Classifier"
   ]
  },
  {
   "cell_type": "code",
   "execution_count": 63,
   "id": "0123536f",
   "metadata": {},
   "outputs": [
    {
     "data": {
      "text/plain": [
       "RandomForestClassifier(criterion='entropy', max_depth=15, min_samples_split=20)"
      ]
     },
     "execution_count": 63,
     "metadata": {},
     "output_type": "execute_result"
    }
   ],
   "source": [
    "m4 = RandomForestClassifier(n_estimators=100,criterion='entropy',max_depth=15,min_samples_split=20)\n",
    "m4.fit(x_train,y_train)"
   ]
  },
  {
   "cell_type": "code",
   "execution_count": 64,
   "id": "4b00d47b",
   "metadata": {},
   "outputs": [
    {
     "name": "stdout",
     "output_type": "stream",
     "text": [
      "Training Score 0.98973954222573\n",
      "Testing Score 0.9905362776025236\n"
     ]
    }
   ],
   "source": [
    "mscore(m4)"
   ]
  },
  {
   "cell_type": "code",
   "execution_count": 65,
   "id": "2a310795",
   "metadata": {},
   "outputs": [],
   "source": [
    "ypred_m4=m4.predict(x_test)"
   ]
  },
  {
   "cell_type": "code",
   "execution_count": 66,
   "id": "023adecf",
   "metadata": {},
   "outputs": [
    {
     "name": "stdout",
     "output_type": "stream",
     "text": [
      "[[315   3]\n",
      " [  3 313]]\n",
      "Accuracy Score 0.9905362776025236\n",
      "              precision    recall  f1-score   support\n",
      "\n",
      "           0       0.99      0.99      0.99       318\n",
      "           1       0.99      0.99      0.99       316\n",
      "\n",
      "    accuracy                           0.99       634\n",
      "   macro avg       0.99      0.99      0.99       634\n",
      "weighted avg       0.99      0.99      0.99       634\n",
      "\n"
     ]
    }
   ],
   "source": [
    "eval_model(y_test,ypred_m4)"
   ]
  },
  {
   "cell_type": "markdown",
   "id": "54741c7f",
   "metadata": {},
   "source": [
    "# 5) Support vector machine(svm)"
   ]
  },
  {
   "cell_type": "code",
   "execution_count": 67,
   "id": "eaa77dc3",
   "metadata": {},
   "outputs": [
    {
     "data": {
      "text/plain": [
       "SVC(C=1, kernel='linear')"
      ]
     },
     "execution_count": 67,
     "metadata": {},
     "output_type": "execute_result"
    }
   ],
   "source": [
    "m5=SVC(kernel='linear',C=1)\n",
    "m5.fit(x_train,y_train)"
   ]
  },
  {
   "cell_type": "code",
   "execution_count": 68,
   "id": "378b1512",
   "metadata": {},
   "outputs": [
    {
     "name": "stdout",
     "output_type": "stream",
     "text": [
      "Training Score 0.920284135753749\n",
      "Testing Score 0.9369085173501577\n"
     ]
    }
   ],
   "source": [
    "mscore(m5)"
   ]
  },
  {
   "cell_type": "code",
   "execution_count": 69,
   "id": "8a47753f",
   "metadata": {},
   "outputs": [],
   "source": [
    "ypred_m5=m5.predict(x_test)"
   ]
  },
  {
   "cell_type": "code",
   "execution_count": 70,
   "id": "81d2c111",
   "metadata": {},
   "outputs": [
    {
     "name": "stdout",
     "output_type": "stream",
     "text": [
      "[[283  35]\n",
      " [  5 311]]\n",
      "Accuracy Score 0.9369085173501577\n",
      "              precision    recall  f1-score   support\n",
      "\n",
      "           0       0.98      0.89      0.93       318\n",
      "           1       0.90      0.98      0.94       316\n",
      "\n",
      "    accuracy                           0.94       634\n",
      "   macro avg       0.94      0.94      0.94       634\n",
      "weighted avg       0.94      0.94      0.94       634\n",
      "\n"
     ]
    }
   ],
   "source": [
    "eval_model(y_test,ypred_m5)"
   ]
  },
  {
   "cell_type": "markdown",
   "id": "ba979c9c",
   "metadata": {},
   "source": [
    "### From above all classifiers we can come to know that \n",
    "1)Logistic Regression has accuracy =0.92<br>\n",
    "2)Decision Tree has accuracy =0.97<br>\n",
    "3)KNeighbors Classifier has accuracy=0.70<br>\n",
    "4)Random Forest Classifier has accuracy=0.97<br>\n",
    "5)Support Vector Machine has accuracy=0.93<br>\n"
   ]
  },
  {
   "cell_type": "markdown",
   "id": "d5296f17",
   "metadata": {},
   "source": [
    "Out of all the above five(5) models <br> These two has best accuracy rate<br>\n",
    "Decision Tree and Random Forest Classifier has best accuracy rate with 0.97"
   ]
  },
  {
   "cell_type": "markdown",
   "id": "52634b7d",
   "metadata": {},
   "source": [
    "# percentage distribution of label on a pie chart"
   ]
  },
  {
   "cell_type": "code",
   "execution_count": 71,
   "id": "317ccf9a",
   "metadata": {},
   "outputs": [
    {
     "data": {
      "text/plain": [
       "1    1584\n",
       "0    1584\n",
       "Name: label, dtype: int64"
      ]
     },
     "execution_count": 71,
     "metadata": {},
     "output_type": "execute_result"
    }
   ],
   "source": [
    "r1 = df['label'].value_counts()\n",
    "r1"
   ]
  },
  {
   "cell_type": "code",
   "execution_count": 72,
   "id": "413bc2f4",
   "metadata": {},
   "outputs": [
    {
     "data": {
      "image/png": "[encoded data removed]",
      "text/plain": [
       "<Figure size 432x288 with 1 Axes>"
      ]
     },
     "metadata": {},
     "output_type": "display_data"
    }
   ],
   "source": [
    "plt.pie(r1.values,labels=r1.index,autopct='%.2f%%')\n",
    "plt.show()"
   ]
  },
  {
   "cell_type": "markdown",
   "id": "ab067224",
   "metadata": {},
   "source": [
    "# PIE CHART"
   ]
  },
  {
   "cell_type": "markdown",
   "id": "db2a7d7d",
   "metadata": {},
   "source": [
    "# --------******************--------------****************THE END****************-----------------*******************-------------"
   ]
  }
 ],
 "metadata": {
  "kernelspec": {
   "display_name": "Python 3 (ipykernel)",
   "language": "python",
   "name": "python3"
  },
  "language_info": {
   "codemirror_mode": {
    "name": "ipython",
    "version": 3
   },
   "file_extension": ".py",
   "mimetype": "text/x-python",
   "name": "python",
   "nbconvert_exporter": "python",
   "pygments_lexer": "ipython3",
   "version": "3.9.12"
  }
 },
 "nbformat": 4,
 "nbformat_minor": 5
}
